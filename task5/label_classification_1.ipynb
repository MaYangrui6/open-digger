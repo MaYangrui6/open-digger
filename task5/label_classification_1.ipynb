{
 "cells": [
  {
   "cell_type": "code",
   "execution_count": 4,
   "id": "initial_id",
   "metadata": {},
   "outputs": [
    {
     "name": "stdout",
     "output_type": "stream",
     "text": [
      "      Unnamed: 0         id                     name      label\n",
      "693          693  103040612           腾龙 @TengLuoLuo  Community\n",
      "1053        1053   70777180    Foundry376/Mailspring     Domain\n",
      "2440        2440  334777857        ravynsoft/ravynos     Domain\n",
      "1599        1599  119822304      sindresorhus/Gifski     Domain\n",
      "779          779     667006         videojs/video.js     Domain\n",
      "578          578   84392119              team-tf-cdk        Bot\n",
      "2640        2640   12766540  hgoebl/mobile-detect.js     Domain\n",
      "353          353   49659212             bot-monkey-1        Bot\n",
      "1070        1070   50807547    turbolinks/turbolinks     Domain\n",
      "1315        1315  394318710  valinet/ExplorerPatcher     Domain\n"
     ]
    }
   ],
   "source": [
    "import pandas as pd\n",
    "from sklearn.model_selection import train_test_split\n",
    "from sklearn.feature_extraction.text import TfidfVectorizer\n",
    "from sklearn.linear_model import LogisticRegression\n",
    "from sklearn.svm import SVC\n",
    "from sklearn.ensemble import RandomForestClassifier\n",
    "from sklearn.metrics import classification_report, accuracy_score\n",
    "\n",
    "# 导入Keras\n",
    "from tensorflow.keras.models import Sequential\n",
    "from tensorflow.keras.layers import Dense, Dropout\n",
    "from scikeras.wrappers import KerasClassifier\n",
    "\n",
    "data = pd.read_csv('./data.csv')\n",
    "print(data.sample(n=10))"
   ]
  },
  {
   "cell_type": "code",
   "execution_count": 5,
   "id": "5ba9a7df-6dfa-4b11-aeee-7bdb62d10fe5",
   "metadata": {},
   "outputs": [],
   "source": [
    "# 定义自定义神经网络模型\n",
    "def create_nn_model():\n",
    "    model = Sequential()\n",
    "    model.add(Dense(128, input_dim=X_train_tfidf.shape[1], activation='relu'))\n",
    "    model.add(Dropout(0.5))\n",
    "    model.add(Dense(64, activation='relu'))\n",
    "    model.add(Dropout(0.5))\n",
    "    model.add(Dense(1, activation='sigmoid'))\n",
    "    model.compile(optimizer='adam', loss='binary_crossentropy', metrics=['accuracy'])\n",
    "    return model\n"
   ]
  },
  {
   "cell_type": "code",
   "execution_count": 6,
   "id": "c0706190",
   "metadata": {},
   "outputs": [
    {
     "name": "stdout",
     "output_type": "stream",
     "text": [
      "Training Logistic Regression...\n",
      "Logistic Regression Accuracy: 0.7662\n",
      "Logistic Regression Classification Report:\n",
      "\n",
      "              precision    recall  f1-score   support\n",
      "\n",
      "         Bot       0.98      0.37      0.54       155\n",
      "   Community       0.00      0.00      0.00        16\n",
      "     Company       0.00      0.00      0.00         2\n",
      "      Domain       0.75      0.99      0.85       460\n",
      "  Foundation       0.00      0.00      0.00        11\n",
      "     Project       0.50      0.67      0.57         6\n",
      "        Tech       0.80      0.13      0.23        30\n",
      "\n",
      "    accuracy                           0.77       680\n",
      "   macro avg       0.43      0.31      0.31       680\n",
      "weighted avg       0.77      0.77      0.71       680\n",
      "\n",
      "Training SVM...\n"
     ]
    },
    {
     "name": "stderr",
     "output_type": "stream",
     "text": [
      "/home/beginner/.local/lib/python3.8/site-packages/sklearn/metrics/_classification.py:1471: UndefinedMetricWarning: Precision and F-score are ill-defined and being set to 0.0 in labels with no predicted samples. Use `zero_division` parameter to control this behavior.\n",
      "  _warn_prf(average, modifier, msg_start, len(result))\n",
      "/home/beginner/.local/lib/python3.8/site-packages/sklearn/metrics/_classification.py:1471: UndefinedMetricWarning: Precision and F-score are ill-defined and being set to 0.0 in labels with no predicted samples. Use `zero_division` parameter to control this behavior.\n",
      "  _warn_prf(average, modifier, msg_start, len(result))\n",
      "/home/beginner/.local/lib/python3.8/site-packages/sklearn/metrics/_classification.py:1471: UndefinedMetricWarning: Precision and F-score are ill-defined and being set to 0.0 in labels with no predicted samples. Use `zero_division` parameter to control this behavior.\n",
      "  _warn_prf(average, modifier, msg_start, len(result))\n"
     ]
    },
    {
     "name": "stdout",
     "output_type": "stream",
     "text": [
      "SVM Accuracy: 0.7735\n",
      "SVM Classification Report:\n",
      "\n",
      "              precision    recall  f1-score   support\n",
      "\n",
      "         Bot       0.98      0.39      0.56       155\n",
      "   Community       0.00      0.00      0.00        16\n",
      "     Company       0.00      0.00      0.00         2\n",
      "      Domain       0.75      0.99      0.86       460\n",
      "  Foundation       0.00      0.00      0.00        11\n",
      "     Project       0.86      1.00      0.92         6\n",
      "        Tech       0.67      0.13      0.22        30\n",
      "\n",
      "    accuracy                           0.77       680\n",
      "   macro avg       0.47      0.36      0.37       680\n",
      "weighted avg       0.77      0.77      0.72       680\n",
      "\n",
      "Training Random Forest...\n"
     ]
    },
    {
     "name": "stderr",
     "output_type": "stream",
     "text": [
      "/home/beginner/.local/lib/python3.8/site-packages/sklearn/metrics/_classification.py:1471: UndefinedMetricWarning: Precision and F-score are ill-defined and being set to 0.0 in labels with no predicted samples. Use `zero_division` parameter to control this behavior.\n",
      "  _warn_prf(average, modifier, msg_start, len(result))\n",
      "/home/beginner/.local/lib/python3.8/site-packages/sklearn/metrics/_classification.py:1471: UndefinedMetricWarning: Precision and F-score are ill-defined and being set to 0.0 in labels with no predicted samples. Use `zero_division` parameter to control this behavior.\n",
      "  _warn_prf(average, modifier, msg_start, len(result))\n",
      "/home/beginner/.local/lib/python3.8/site-packages/sklearn/metrics/_classification.py:1471: UndefinedMetricWarning: Precision and F-score are ill-defined and being set to 0.0 in labels with no predicted samples. Use `zero_division` parameter to control this behavior.\n",
      "  _warn_prf(average, modifier, msg_start, len(result))\n"
     ]
    },
    {
     "name": "stdout",
     "output_type": "stream",
     "text": [
      "Random Forest Accuracy: 0.7706\n",
      "Random Forest Classification Report:\n",
      "\n",
      "              precision    recall  f1-score   support\n",
      "\n",
      "         Bot       0.97      0.41      0.58       155\n",
      "   Community       0.00      0.00      0.00        16\n",
      "     Company       0.00      0.00      0.00         2\n",
      "      Domain       0.76      0.98      0.86       460\n",
      "  Foundation       0.00      0.00      0.00        11\n",
      "     Project       0.86      1.00      0.92         6\n",
      "        Tech       0.29      0.07      0.11        30\n",
      "\n",
      "    accuracy                           0.77       680\n",
      "   macro avg       0.41      0.35      0.35       680\n",
      "weighted avg       0.75      0.77      0.72       680\n",
      "\n",
      "Training Neural Network...\n"
     ]
    },
    {
     "name": "stderr",
     "output_type": "stream",
     "text": [
      "/home/beginner/.local/lib/python3.8/site-packages/sklearn/metrics/_classification.py:1471: UndefinedMetricWarning: Precision and F-score are ill-defined and being set to 0.0 in labels with no predicted samples. Use `zero_division` parameter to control this behavior.\n",
      "  _warn_prf(average, modifier, msg_start, len(result))\n",
      "/home/beginner/.local/lib/python3.8/site-packages/sklearn/metrics/_classification.py:1471: UndefinedMetricWarning: Precision and F-score are ill-defined and being set to 0.0 in labels with no predicted samples. Use `zero_division` parameter to control this behavior.\n",
      "  _warn_prf(average, modifier, msg_start, len(result))\n",
      "/home/beginner/.local/lib/python3.8/site-packages/sklearn/metrics/_classification.py:1471: UndefinedMetricWarning: Precision and F-score are ill-defined and being set to 0.0 in labels with no predicted samples. Use `zero_division` parameter to control this behavior.\n",
      "  _warn_prf(average, modifier, msg_start, len(result))\n",
      "/home/beginner/.local/lib/python3.8/site-packages/scikeras/wrappers.py:915: UserWarning: ``build_fn`` will be renamed to ``model`` in a future release, at which point use of ``build_fn`` will raise an Error instead.\n",
      "  X, y = self._initialize(X, y)\n"
     ]
    },
    {
     "name": "stdout",
     "output_type": "stream",
     "text": [
      "Neural Network Accuracy: 0.2279\n",
      "Neural Network Classification Report:\n",
      "\n",
      "              precision    recall  f1-score   support\n",
      "\n",
      "         Bot       0.23      1.00      0.37       155\n",
      "   Community       0.00      0.00      0.00        16\n",
      "     Company       0.00      0.00      0.00         2\n",
      "      Domain       0.00      0.00      0.00       460\n",
      "  Foundation       0.00      0.00      0.00        11\n",
      "     Project       0.00      0.00      0.00         6\n",
      "        Tech       0.00      0.00      0.00        30\n",
      "\n",
      "    accuracy                           0.23       680\n",
      "   macro avg       0.03      0.14      0.05       680\n",
      "weighted avg       0.05      0.23      0.08       680\n",
      "\n"
     ]
    },
    {
     "name": "stderr",
     "output_type": "stream",
     "text": [
      "/home/beginner/.local/lib/python3.8/site-packages/sklearn/metrics/_classification.py:1471: UndefinedMetricWarning: Precision and F-score are ill-defined and being set to 0.0 in labels with no predicted samples. Use `zero_division` parameter to control this behavior.\n",
      "  _warn_prf(average, modifier, msg_start, len(result))\n",
      "/home/beginner/.local/lib/python3.8/site-packages/sklearn/metrics/_classification.py:1471: UndefinedMetricWarning: Precision and F-score are ill-defined and being set to 0.0 in labels with no predicted samples. Use `zero_division` parameter to control this behavior.\n",
      "  _warn_prf(average, modifier, msg_start, len(result))\n",
      "/home/beginner/.local/lib/python3.8/site-packages/sklearn/metrics/_classification.py:1471: UndefinedMetricWarning: Precision and F-score are ill-defined and being set to 0.0 in labels with no predicted samples. Use `zero_division` parameter to control this behavior.\n",
      "  _warn_prf(average, modifier, msg_start, len(result))\n"
     ]
    }
   ],
   "source": [
    "# 分割数据集为训练集和测试集\n",
    "X_train, X_test, y_train, y_test = train_test_split(data['name'], data['label'], test_size=0.2, random_state=42)\n",
    "\n",
    "# 特征提取\n",
    "vectorizer = TfidfVectorizer()\n",
    "X_train_tfidf = vectorizer.fit_transform(X_train)\n",
    "X_test_tfidf = vectorizer.transform(X_test)\n",
    "\n",
    "# Wrapping the Keras model so it can be used with scikit-learn\n",
    "nn_model = KerasClassifier(build_fn=create_nn_model, epochs=10, batch_size=32, verbose=0)\n",
    "\n",
    "# 定义模型\n",
    "models = {\n",
    "    \"Logistic Regression\": LogisticRegression(),\n",
    "    \"SVM\": SVC(),\n",
    "    \"Random Forest\": RandomForestClassifier(),\n",
    "    \"Neural Network\": nn_model\n",
    "}\n",
    "\n",
    "# 训练和评估模型\n",
    "for model_name, model in models.items():\n",
    "    print(f\"Training {model_name}...\")\n",
    "    # 训练模型\n",
    "    model.fit(X_train_tfidf, y_train)\n",
    "    # 预测\n",
    "    y_pred = model.predict(X_test_tfidf)\n",
    "    # 计算精确度\n",
    "    accuracy = accuracy_score(y_test, y_pred)\n",
    "    print(f\"{model_name} Accuracy: {accuracy:.4f}\")\n",
    "    # 打印分类报告\n",
    "    print(f\"{model_name} Classification Report:\\n\")\n",
    "    print(classification_report(y_test, y_pred))\n",
    "\n"
   ]
  },
  {
   "cell_type": "code",
   "execution_count": null,
   "id": "83908653",
   "metadata": {},
   "outputs": [],
   "source": []
  }
 ],
 "metadata": {
  "kernelspec": {
   "display_name": "Python 3 (ipykernel)",
   "language": "python",
   "name": "python3"
  },
  "language_info": {
   "codemirror_mode": {
    "name": "ipython",
    "version": 3
   },
   "file_extension": ".py",
   "mimetype": "text/x-python",
   "name": "python",
   "nbconvert_exporter": "python",
   "pygments_lexer": "ipython3",
   "version": "3.8.10"
  }
 },
 "nbformat": 4,
 "nbformat_minor": 5
}
