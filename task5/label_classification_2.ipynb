{
 "cells": [
  {
   "cell_type": "code",
   "execution_count": 8,
   "id": "de669aa7-1490-4c95-9aad-23fc94042160",
   "metadata": {},
   "outputs": [
    {
     "name": "stdout",
     "output_type": "stream",
     "text": [
      "Training Logistic Regression...\n",
      "Logistic Regression Accuracy: 0.7662\n",
      "Logistic Regression Classification Report:\n",
      "\n",
      "              precision    recall  f1-score   support\n",
      "\n",
      "         Bot       0.98      0.37      0.54       155\n",
      "   Community       0.00      0.00      0.00        16\n",
      "     Company       0.00      0.00      0.00         2\n",
      "      Domain       0.75      0.99      0.85       460\n",
      "  Foundation       0.00      0.00      0.00        11\n",
      "     Project       0.50      0.67      0.57         6\n",
      "        Tech       0.80      0.13      0.23        30\n",
      "\n",
      "    accuracy                           0.77       680\n",
      "   macro avg       0.43      0.31      0.31       680\n",
      "weighted avg       0.77      0.77      0.71       680\n",
      "\n",
      "Training SVM...\n"
     ]
    },
    {
     "name": "stderr",
     "output_type": "stream",
     "text": [
      "/home/beginner/.local/lib/python3.8/site-packages/sklearn/metrics/_classification.py:1471: UndefinedMetricWarning: Precision and F-score are ill-defined and being set to 0.0 in labels with no predicted samples. Use `zero_division` parameter to control this behavior.\n",
      "  _warn_prf(average, modifier, msg_start, len(result))\n",
      "/home/beginner/.local/lib/python3.8/site-packages/sklearn/metrics/_classification.py:1471: UndefinedMetricWarning: Precision and F-score are ill-defined and being set to 0.0 in labels with no predicted samples. Use `zero_division` parameter to control this behavior.\n",
      "  _warn_prf(average, modifier, msg_start, len(result))\n",
      "/home/beginner/.local/lib/python3.8/site-packages/sklearn/metrics/_classification.py:1471: UndefinedMetricWarning: Precision and F-score are ill-defined and being set to 0.0 in labels with no predicted samples. Use `zero_division` parameter to control this behavior.\n",
      "  _warn_prf(average, modifier, msg_start, len(result))\n"
     ]
    },
    {
     "name": "stdout",
     "output_type": "stream",
     "text": [
      "SVM Accuracy: 0.7735\n",
      "SVM Classification Report:\n",
      "\n",
      "              precision    recall  f1-score   support\n",
      "\n",
      "         Bot       0.98      0.39      0.56       155\n",
      "   Community       0.00      0.00      0.00        16\n",
      "     Company       0.00      0.00      0.00         2\n",
      "      Domain       0.75      0.99      0.86       460\n",
      "  Foundation       0.00      0.00      0.00        11\n",
      "     Project       0.86      1.00      0.92         6\n",
      "        Tech       0.67      0.13      0.22        30\n",
      "\n",
      "    accuracy                           0.77       680\n",
      "   macro avg       0.47      0.36      0.37       680\n",
      "weighted avg       0.77      0.77      0.72       680\n",
      "\n",
      "Training Random Forest...\n"
     ]
    },
    {
     "name": "stderr",
     "output_type": "stream",
     "text": [
      "/home/beginner/.local/lib/python3.8/site-packages/sklearn/metrics/_classification.py:1471: UndefinedMetricWarning: Precision and F-score are ill-defined and being set to 0.0 in labels with no predicted samples. Use `zero_division` parameter to control this behavior.\n",
      "  _warn_prf(average, modifier, msg_start, len(result))\n",
      "/home/beginner/.local/lib/python3.8/site-packages/sklearn/metrics/_classification.py:1471: UndefinedMetricWarning: Precision and F-score are ill-defined and being set to 0.0 in labels with no predicted samples. Use `zero_division` parameter to control this behavior.\n",
      "  _warn_prf(average, modifier, msg_start, len(result))\n",
      "/home/beginner/.local/lib/python3.8/site-packages/sklearn/metrics/_classification.py:1471: UndefinedMetricWarning: Precision and F-score are ill-defined and being set to 0.0 in labels with no predicted samples. Use `zero_division` parameter to control this behavior.\n",
      "  _warn_prf(average, modifier, msg_start, len(result))\n"
     ]
    },
    {
     "name": "stdout",
     "output_type": "stream",
     "text": [
      "Random Forest Accuracy: 0.7647\n",
      "Random Forest Classification Report:\n",
      "\n",
      "              precision    recall  f1-score   support\n",
      "\n",
      "         Bot       0.87      0.42      0.57       155\n",
      "   Community       0.00      0.00      0.00        16\n",
      "     Company       0.00      0.00      0.00         2\n",
      "      Domain       0.76      0.97      0.85       460\n",
      "  Foundation       0.00      0.00      0.00        11\n",
      "     Project       0.86      1.00      0.92         6\n",
      "        Tech       0.45      0.17      0.24        30\n",
      "\n",
      "    accuracy                           0.76       680\n",
      "   macro avg       0.42      0.36      0.37       680\n",
      "weighted avg       0.74      0.76      0.72       680\n",
      "\n",
      "Training Neural Network...\n"
     ]
    },
    {
     "name": "stderr",
     "output_type": "stream",
     "text": [
      "/home/beginner/.local/lib/python3.8/site-packages/sklearn/metrics/_classification.py:1471: UndefinedMetricWarning: Precision and F-score are ill-defined and being set to 0.0 in labels with no predicted samples. Use `zero_division` parameter to control this behavior.\n",
      "  _warn_prf(average, modifier, msg_start, len(result))\n",
      "/home/beginner/.local/lib/python3.8/site-packages/sklearn/metrics/_classification.py:1471: UndefinedMetricWarning: Precision and F-score are ill-defined and being set to 0.0 in labels with no predicted samples. Use `zero_division` parameter to control this behavior.\n",
      "  _warn_prf(average, modifier, msg_start, len(result))\n",
      "/home/beginner/.local/lib/python3.8/site-packages/sklearn/metrics/_classification.py:1471: UndefinedMetricWarning: Precision and F-score are ill-defined and being set to 0.0 in labels with no predicted samples. Use `zero_division` parameter to control this behavior.\n",
      "  _warn_prf(average, modifier, msg_start, len(result))\n",
      "/home/beginner/.local/lib/python3.8/site-packages/scikeras/wrappers.py:915: UserWarning: ``build_fn`` will be renamed to ``model`` in a future release, at which point use of ``build_fn`` will raise an Error instead.\n",
      "  X, y = self._initialize(X, y)\n"
     ]
    },
    {
     "name": "stdout",
     "output_type": "stream",
     "text": [
      "INFO:tensorflow:Assets written to: ram://05245fac18454da5822ff182e35fd1e6/assets\n"
     ]
    },
    {
     "name": "stderr",
     "output_type": "stream",
     "text": [
      "INFO:tensorflow:Assets written to: ram://05245fac18454da5822ff182e35fd1e6/assets\n"
     ]
    },
    {
     "name": "stdout",
     "output_type": "stream",
     "text": [
      "Neural Network Accuracy: 0.2279\n",
      "Neural Network Classification Report:\n",
      "\n",
      "              precision    recall  f1-score   support\n",
      "\n",
      "         Bot       0.23      1.00      0.37       155\n",
      "   Community       0.00      0.00      0.00        16\n",
      "     Company       0.00      0.00      0.00         2\n",
      "      Domain       0.00      0.00      0.00       460\n",
      "  Foundation       0.00      0.00      0.00        11\n",
      "     Project       0.00      0.00      0.00         6\n",
      "        Tech       0.00      0.00      0.00        30\n",
      "\n",
      "    accuracy                           0.23       680\n",
      "   macro avg       0.03      0.14      0.05       680\n",
      "weighted avg       0.05      0.23      0.08       680\n",
      "\n"
     ]
    },
    {
     "name": "stderr",
     "output_type": "stream",
     "text": [
      "/home/beginner/.local/lib/python3.8/site-packages/sklearn/metrics/_classification.py:1471: UndefinedMetricWarning: Precision and F-score are ill-defined and being set to 0.0 in labels with no predicted samples. Use `zero_division` parameter to control this behavior.\n",
      "  _warn_prf(average, modifier, msg_start, len(result))\n",
      "/home/beginner/.local/lib/python3.8/site-packages/sklearn/metrics/_classification.py:1471: UndefinedMetricWarning: Precision and F-score are ill-defined and being set to 0.0 in labels with no predicted samples. Use `zero_division` parameter to control this behavior.\n",
      "  _warn_prf(average, modifier, msg_start, len(result))\n",
      "/home/beginner/.local/lib/python3.8/site-packages/sklearn/metrics/_classification.py:1471: UndefinedMetricWarning: Precision and F-score are ill-defined and being set to 0.0 in labels with no predicted samples. Use `zero_division` parameter to control this behavior.\n",
      "  _warn_prf(average, modifier, msg_start, len(result))\n"
     ]
    }
   ],
   "source": [
    "import pandas as pd\n",
    "from sklearn.model_selection import train_test_split\n",
    "from sklearn.feature_extraction.text import TfidfVectorizer\n",
    "from sklearn.linear_model import LogisticRegression\n",
    "from sklearn.svm import SVC\n",
    "from sklearn.ensemble import RandomForestClassifier\n",
    "from sklearn.metrics import classification_report, accuracy_score\n",
    "import joblib\n",
    "from tensorflow.keras.models import Sequential\n",
    "from tensorflow.keras.layers import Dense, Dropout\n",
    "from scikeras.wrappers import KerasClassifier\n",
    "from tensorflow.keras.models import load_model\n",
    "\n",
    "# 读取数据\n",
    "data = pd.read_csv('data.csv')\n",
    "\n",
    "# 分割数据集为训练集和测试集\n",
    "X_train, X_test, y_train, y_test = train_test_split(data['name'], data['label'], test_size=0.2, random_state=42)\n",
    "\n",
    "# 特征提取\n",
    "vectorizer = TfidfVectorizer()\n",
    "X_train_tfidf = vectorizer.fit_transform(X_train)\n",
    "X_test_tfidf = vectorizer.transform(X_test)\n",
    "\n",
    "# 保存vectorizer\n",
    "joblib.dump(vectorizer, './parameter/tfidf_vectorizer.pkl')\n",
    "\n",
    "# 定义自定义神经网络模型\n",
    "def create_nn_model():\n",
    "    model = Sequential()\n",
    "    model.add(Dense(128, input_dim=X_train_tfidf.shape[1], activation='relu'))\n",
    "    model.add(Dropout(0.5))\n",
    "    model.add(Dense(64, activation='relu'))\n",
    "    model.add(Dropout(0.5))\n",
    "    model.add(Dense(1, activation='sigmoid'))\n",
    "    model.compile(optimizer='adam', loss='binary_crossentropy', metrics=['accuracy'])\n",
    "    return model\n",
    "\n",
    "# Wrapping the Keras model so it can be used with scikit-learn\n",
    "nn_model = KerasClassifier(build_fn=create_nn_model, epochs=10, batch_size=32, verbose=0)\n",
    "\n",
    "# 定义模型\n",
    "models = {\n",
    "    \"Logistic Regression\": LogisticRegression(),\n",
    "    \"SVM\": SVC(),\n",
    "    \"Random Forest\": RandomForestClassifier(),\n",
    "    \"Neural Network\": nn_model\n",
    "}\n",
    "\n",
    "# 训练和评估模型\n",
    "for model_name, model in models.items():\n",
    "    print(f\"Training {model_name}...\")\n",
    "    # 训练模型\n",
    "    model.fit(X_train_tfidf, y_train)\n",
    "    # 保存模型\n",
    "    # if model_name == \"Neural Network\":\n",
    "        # model.model.save(f'{model_name}.h5')\n",
    "    # else:\n",
    "    joblib.dump(model, f'./parameter/{model_name}.pkl')\n",
    "    # 预测\n",
    "    y_pred = model.predict(X_test_tfidf)\n",
    "    # 计算精确度\n",
    "    accuracy = accuracy_score(y_test, y_pred)\n",
    "    print(f\"{model_name} Accuracy: {accuracy:.4f}\")\n",
    "    # 打印分类报告\n",
    "    print(f\"{model_name} Classification Report:\\n\")\n",
    "    print(classification_report(y_test, y_pred))\n",
    "\n"
   ]
  },
  {
   "cell_type": "code",
   "execution_count": 14,
   "id": "664b1343-e6fe-4697-9bf1-87e2bd4f3d13",
   "metadata": {},
   "outputs": [
    {
     "name": "stdout",
     "output_type": "stream",
     "text": [
      "Name: cbdddbot, Predicted Label: Domain\n",
      "Name: 新的名字2, Predicted Label: Domain\n",
      "Name: open/asbsdv, Predicted Label: Tech\n"
     ]
    }
   ],
   "source": [
    "# 读取保存的模型参数并进行分类任务\n",
    "def load_model_and_predict(model_name, new_data):\n",
    "    vectorizer = joblib.load('./parameter/tfidf_vectorizer.pkl')\n",
    "    X_new_tfidf = vectorizer.transform(new_data)\n",
    "\n",
    "    if model_name == \"Neural Network\":\n",
    "        model = load_model(f'./parameter/{model_name}.h5')\n",
    "        y_pred = model.predict(X_new_tfidf).flatten()\n",
    "        y_pred = [1 if y > 0.5 else 0 for y in y_pred]\n",
    "    else:\n",
    "        model = joblib.load(f'./parameter/{model_name}.pkl')\n",
    "        y_pred = model.predict(X_new_tfidf)\n",
    "    \n",
    "    return y_pred\n",
    "\n",
    "# 新的分类任务数据\n",
    "new_data = pd.Series([\"cbdddbot\", \"新的名字2\", \"open/asbsdv\"])\n",
    "\n",
    "# 加载模型并进行分类\n",
    "# 可以选择不同的模型\n",
    "# SVM\n",
    "# Random Forest\n",
    "# Logistic Regression\n",
    "model_name = \"SVM\" \n",
    "predictions = load_model_and_predict(model_name, new_data)\n",
    "\n",
    "# 展示分类结果\n",
    "for name, label in zip(new_data, predictions):\n",
    "    print(f\"Name: {name}, Predicted Label: {label}\")\n",
    "\n"
   ]
  },
  {
   "cell_type": "code",
   "execution_count": null,
   "id": "67eabb98-0a05-4285-bf1e-b9bd4566bcac",
   "metadata": {},
   "outputs": [],
   "source": []
  }
 ],
 "metadata": {
  "kernelspec": {
   "display_name": "Python 3 (ipykernel)",
   "language": "python",
   "name": "python3"
  },
  "language_info": {
   "codemirror_mode": {
    "name": "ipython",
    "version": 3
   },
   "file_extension": ".py",
   "mimetype": "text/x-python",
   "name": "python",
   "nbconvert_exporter": "python",
   "pygments_lexer": "ipython3",
   "version": "3.8.10"
  }
 },
 "nbformat": 4,
 "nbformat_minor": 5
}
